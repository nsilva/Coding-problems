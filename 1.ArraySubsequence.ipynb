{
 "cells": [
  {
   "cell_type": "markdown",
   "metadata": {},
   "source": [
    "# Array Subsequence"
   ]
  },
  {
   "cell_type": "markdown",
   "metadata": {},
   "source": [
    "Given two non-empty array, write a function to find if a array b is a subsequence of array a.\n",
    "\n",
    "A subsequece is a subset of another array where elements are necessarily adjacent but are in the same order.\n",
    "\n",
    "For example, [1, 3, -5] is a subsequence of [9, 1, 4, 3, -5]."
   ]
  },
  {
   "cell_type": "markdown",
   "metadata": {},
   "source": [
    "## Solution"
   ]
  },
  {
   "cell_type": "markdown",
   "metadata": {},
   "source": [
    "Create a pointer p to the array to be tested. While iteating through the original array, evaluate if subset[p] == original_array[i]"
   ]
  },
  {
   "cell_type": "markdown",
   "metadata": {},
   "source": [
    "## Input"
   ]
  },
  {
   "cell_type": "code",
   "execution_count": 1,
   "metadata": {},
   "outputs": [],
   "source": [
    "arr = [1, 6, 3, 9, 0, 45, 2, 75, 5]\n",
    "test1 = [1, 0, 2]\n",
    "test2 = [4, 1, 6]\n",
    "test3 = [0, 75, 5]"
   ]
  },
  {
   "cell_type": "code",
   "execution_count": 19,
   "metadata": {},
   "outputs": [],
   "source": [
    "def is_subset(arr, sequence):\n",
    "    pointer = 0\n",
    "    \n",
    "    for n in arr:\n",
    "        if pointer == len(sequence):\n",
    "            break\n",
    "            \n",
    "        if sequence[pointer] == n:\n",
    "            pointer += 1\n",
    "            \n",
    "    return pointer == len(sequence)"
   ]
  },
  {
   "cell_type": "markdown",
   "metadata": {},
   "source": [
    "## Output"
   ]
  },
  {
   "cell_type": "code",
   "execution_count": 20,
   "metadata": {},
   "outputs": [
    {
     "name": "stdout",
     "output_type": "stream",
     "text": [
      "True\n",
      "False\n",
      "True\n"
     ]
    }
   ],
   "source": [
    "print(is_subset(arr, test1))\n",
    "print(is_subset(arr, test2))\n",
    "print(is_subset(arr, test3))"
   ]
  },
  {
   "cell_type": "code",
   "execution_count": null,
   "metadata": {},
   "outputs": [],
   "source": []
  }
 ],
 "metadata": {
  "kernelspec": {
   "display_name": "Python 3",
   "language": "python",
   "name": "python3"
  },
  "language_info": {
   "codemirror_mode": {
    "name": "ipython",
    "version": 3
   },
   "file_extension": ".py",
   "mimetype": "text/x-python",
   "name": "python",
   "nbconvert_exporter": "python",
   "pygments_lexer": "ipython3",
   "version": "3.6.9"
  }
 },
 "nbformat": 4,
 "nbformat_minor": 2
}
